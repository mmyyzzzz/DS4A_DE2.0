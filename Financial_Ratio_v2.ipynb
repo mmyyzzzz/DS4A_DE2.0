{
 "cells": [
  {
   "cell_type": "code",
   "execution_count": 1,
   "metadata": {},
   "outputs": [],
   "source": [
    "import pandas as pd\n",
    "from datetime import datetime\n",
    "\n",
    "def read_file(file_name, ticker):\n",
    "    \"\"\"\n",
    "    example\n",
    "    file_name = '//2023-05-20 20_37_07_av_company_financial_data.xlsx'\n",
    "    ticker = 'GS'\n",
    "    \"\"\"\n",
    "    df_is = pd.read_excel(file_name, sheet_name = ticker+'_INCOME_STATEMENT')\n",
    "    df_bs = pd.read_excel(file_name, sheet_name = ticker+'_BALANCE_SHEET')\n",
    "    df_cf = pd.read_excel(file_name, sheet_name = ticker+'_CASH_FLOW')\n",
    "    df_all = pd.merge(df_is, df_bs, on='fiscalDateEnding', how='outer').merge(df_cf, on='fiscalDateEnding', how='outer')\n",
    "    return df_all\n",
    "\n",
    "def calc_ratio(df_all):\n",
    "    try:\n",
    "        df_all['ROE'] = df_all.apply(lambda row: row['netIncome_x']/row['totalShareholderEquity'], axis = 1)*4\n",
    "    except:\n",
    "        pass\n",
    "    try:\n",
    "        df_all['ROA'] = df_all.apply(lambda row: row['netIncome_x']/row['totalAssets'], axis = 1)*4\n",
    "    except:\n",
    "        pass\n",
    "    try:\n",
    "        df_all['NIM'] = df_all.apply(lambda row: row['netInterestIncome']/row['totalAssets'], axis = 1)*4\n",
    "    except:\n",
    "        pass\n",
    "    df_ratio = df_all[['fiscalDateEnding', 'ROE', 'ROA',  'NIM']]\n",
    "    return df_ratio\n",
    "\n",
    "def cal_ratio_2(df):# cal ratio\n",
    "    try:\n",
    "        df['NPL'] = df['BHCKS449']/df['BHCK2122']\n",
    "    except:\n",
    "        df['NPL'] = 0\n",
    "    try:\n",
    "        df['CAR'] = df['BHCA3792']/df['BHCAA223']\n",
    "    except:\n",
    "        df['CAR'] = 0\n",
    "    df_ratio_2 = df[['RSSD9001','RSSD9999','NPL','CAR']]\n",
    "    return df_ratio_2"
   ]
  },
  {
   "cell_type": "code",
   "execution_count": 2,
   "metadata": {},
   "outputs": [
    {
     "name": "stderr",
     "output_type": "stream",
     "text": [
      "/Users/YitingZhang/anaconda3/lib/python3.7/site-packages/ipykernel_launcher.py:13: SettingWithCopyWarning: \n",
      "A value is trying to be set on a copy of a slice from a DataFrame.\n",
      "Try using .loc[row_indexer,col_indexer] = value instead\n",
      "\n",
      "See the caveats in the documentation: https://pandas.pydata.org/pandas-docs/stable/user_guide/indexing.html#returning-a-view-versus-a-copy\n",
      "  del sys.path[0]\n"
     ]
    }
   ],
   "source": [
    "file_name = 'data/2023-05-20 20_37_07_av_company_financial_data.xlsx'\n",
    "file_name_2 = 'data/BHCF20221231.txt'\n",
    "ticker_list = ['JPM', 'GS', 'MS']\n",
    "RSSD_list = [1039502,2380443,2162966]\n",
    "keep_col = ['RSSD9001','RSSD9999','BHCK2122', 'BHCK3123', 'BHCKS449', 'BHCA3792', 'BHCAA223']\n",
    "\n",
    "# calc ROE, ROA, NIM\n",
    "df_ratio = pd.DataFrame()\n",
    "\n",
    "for ticker in ticker_list:\n",
    "    df_all = read_file(file_name, ticker)\n",
    "    df_temp = calc_ratio(df_all)\n",
    "    df_temp['Ticker'] = ticker\n",
    "    df_ratio = pd.concat([df_ratio, df_temp])\n",
    "    \n",
    "# calc NPL, CAR\n",
    "df = pd.read_csv(file_name_2, sep = '^',low_memory=False)[keep_col]\n",
    "df = df[df['RSSD9001'].isin(RSSD_list)]\n",
    "ticker_RSSD_mapping = pd.DataFrame({'Ticker': ticker_list, 'RSSD': RSSD_list})\n",
    "df_ratio_2 = cal_ratio_2(df)\n",
    "\n",
    "# convert RSSD to ticker\n",
    "df_ratio_2 = df_ratio_2.merge(ticker_RSSD_mapping, left_on = 'RSSD9001', right_on = 'RSSD')\n",
    "df_ratio_2 = df_ratio_2[['RSSD9999','Ticker','NPL','CAR']]\n",
    "df_ratio_2 = df_ratio_2.rename(columns = {'RSSD9999':'fiscalDateEnding'})\n",
    "\n",
    "# combine the two dataframe for ratios\n",
    "df_ratio_2['fiscalDateEnding'] = pd.to_datetime(df_ratio_2['fiscalDateEnding'].astype('str'), format = '%Y-%m-%d').astype('str')\n",
    "df_ratio = df_ratio_2.merge(df_ratio, how = 'left', left_on = ['fiscalDateEnding','Ticker'], right_on = ['fiscalDateEnding','Ticker'])"
   ]
  },
  {
   "cell_type": "code",
   "execution_count": 3,
   "metadata": {},
   "outputs": [
    {
     "data": {
      "text/html": [
       "<div>\n",
       "<style scoped>\n",
       "    .dataframe tbody tr th:only-of-type {\n",
       "        vertical-align: middle;\n",
       "    }\n",
       "\n",
       "    .dataframe tbody tr th {\n",
       "        vertical-align: top;\n",
       "    }\n",
       "\n",
       "    .dataframe thead th {\n",
       "        text-align: right;\n",
       "    }\n",
       "</style>\n",
       "<table border=\"1\" class=\"dataframe\">\n",
       "  <thead>\n",
       "    <tr style=\"text-align: right;\">\n",
       "      <th></th>\n",
       "      <th>fiscalDateEnding</th>\n",
       "      <th>Ticker</th>\n",
       "      <th>NPL</th>\n",
       "      <th>CAR</th>\n",
       "      <th>ROE</th>\n",
       "      <th>ROA</th>\n",
       "      <th>NIM</th>\n",
       "    </tr>\n",
       "  </thead>\n",
       "  <tbody>\n",
       "    <tr>\n",
       "      <th>0</th>\n",
       "      <td>2022-12-31</td>\n",
       "      <td>JPM</td>\n",
       "      <td>0.003572</td>\n",
       "      <td>0.167985</td>\n",
       "      <td>0.150623</td>\n",
       "      <td>0.012012</td>\n",
       "      <td>0.022033</td>\n",
       "    </tr>\n",
       "    <tr>\n",
       "      <th>1</th>\n",
       "      <td>2022-12-31</td>\n",
       "      <td>MS</td>\n",
       "      <td>0.001146</td>\n",
       "      <td>0.193313</td>\n",
       "      <td>0.089314</td>\n",
       "      <td>0.007578</td>\n",
       "      <td>0.007859</td>\n",
       "    </tr>\n",
       "    <tr>\n",
       "      <th>2</th>\n",
       "      <td>2022-12-31</td>\n",
       "      <td>GS</td>\n",
       "      <td>0.014472</td>\n",
       "      <td>0.190552</td>\n",
       "      <td>0.045260</td>\n",
       "      <td>0.003679</td>\n",
       "      <td>0.005754</td>\n",
       "    </tr>\n",
       "  </tbody>\n",
       "</table>\n",
       "</div>"
      ],
      "text/plain": [
       "  fiscalDateEnding Ticker       NPL       CAR       ROE       ROA       NIM\n",
       "0       2022-12-31    JPM  0.003572  0.167985  0.150623  0.012012  0.022033\n",
       "1       2022-12-31     MS  0.001146  0.193313  0.089314  0.007578  0.007859\n",
       "2       2022-12-31     GS  0.014472  0.190552  0.045260  0.003679  0.005754"
      ]
     },
     "execution_count": 3,
     "metadata": {},
     "output_type": "execute_result"
    }
   ],
   "source": [
    "df_ratio"
   ]
  },
  {
   "cell_type": "code",
   "execution_count": null,
   "metadata": {},
   "outputs": [],
   "source": []
  }
 ],
 "metadata": {
  "kernelspec": {
   "display_name": "Python 3",
   "language": "python",
   "name": "python3"
  },
  "language_info": {
   "codemirror_mode": {
    "name": "ipython",
    "version": 3
   },
   "file_extension": ".py",
   "mimetype": "text/x-python",
   "name": "python",
   "nbconvert_exporter": "python",
   "pygments_lexer": "ipython3",
   "version": "3.7.3"
  }
 },
 "nbformat": 4,
 "nbformat_minor": 2
}
